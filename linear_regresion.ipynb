{
 "cells": [
  {
   "cell_type": "code",
   "execution_count": 2,
   "metadata": {},
   "outputs": [],
   "source": [
    "import numpy as np\n",
    "import pandas as pd\n",
    "import matplotlib as mpl"
   ]
  },
  {
   "cell_type": "code",
   "execution_count": 3,
   "metadata": {},
   "outputs": [
    {
     "output_type": "execute_result",
     "data": {
      "text/plain": [
       "        km  price\n",
       "0   240000   3650\n",
       "1   139800   3800\n",
       "2   150500   4400\n",
       "3   185530   4450\n",
       "4   176000   5250\n",
       "5   114800   5350\n",
       "6   166800   5800\n",
       "7    89000   5990\n",
       "8   144500   5999\n",
       "9    84000   6200\n",
       "10   82029   6390\n",
       "11   63060   6390\n",
       "12   74000   6600\n",
       "13   97500   6800\n",
       "14   67000   6800\n",
       "15   76025   6900\n",
       "16   48235   6900\n",
       "17   93000   6990\n",
       "18   60949   7490\n",
       "19   65674   7555\n",
       "20   54000   7990\n",
       "21   68500   7990\n",
       "22   22899   7990\n",
       "23   61789   8290"
      ],
      "text/html": "<div>\n<style>\n    .dataframe thead tr:only-child th {\n        text-align: right;\n    }\n\n    .dataframe thead th {\n        text-align: left;\n    }\n\n    .dataframe tbody tr th {\n        vertical-align: top;\n    }\n</style>\n<table border=\"1\" class=\"dataframe\">\n  <thead>\n    <tr style=\"text-align: right;\">\n      <th></th>\n      <th>km</th>\n      <th>price</th>\n    </tr>\n  </thead>\n  <tbody>\n    <tr>\n      <th>0</th>\n      <td>240000</td>\n      <td>3650</td>\n    </tr>\n    <tr>\n      <th>1</th>\n      <td>139800</td>\n      <td>3800</td>\n    </tr>\n    <tr>\n      <th>2</th>\n      <td>150500</td>\n      <td>4400</td>\n    </tr>\n    <tr>\n      <th>3</th>\n      <td>185530</td>\n      <td>4450</td>\n    </tr>\n    <tr>\n      <th>4</th>\n      <td>176000</td>\n      <td>5250</td>\n    </tr>\n    <tr>\n      <th>5</th>\n      <td>114800</td>\n      <td>5350</td>\n    </tr>\n    <tr>\n      <th>6</th>\n      <td>166800</td>\n      <td>5800</td>\n    </tr>\n    <tr>\n      <th>7</th>\n      <td>89000</td>\n      <td>5990</td>\n    </tr>\n    <tr>\n      <th>8</th>\n      <td>144500</td>\n      <td>5999</td>\n    </tr>\n    <tr>\n      <th>9</th>\n      <td>84000</td>\n      <td>6200</td>\n    </tr>\n    <tr>\n      <th>10</th>\n      <td>82029</td>\n      <td>6390</td>\n    </tr>\n    <tr>\n      <th>11</th>\n      <td>63060</td>\n      <td>6390</td>\n    </tr>\n    <tr>\n      <th>12</th>\n      <td>74000</td>\n      <td>6600</td>\n    </tr>\n    <tr>\n      <th>13</th>\n      <td>97500</td>\n      <td>6800</td>\n    </tr>\n    <tr>\n      <th>14</th>\n      <td>67000</td>\n      <td>6800</td>\n    </tr>\n    <tr>\n      <th>15</th>\n      <td>76025</td>\n      <td>6900</td>\n    </tr>\n    <tr>\n      <th>16</th>\n      <td>48235</td>\n      <td>6900</td>\n    </tr>\n    <tr>\n      <th>17</th>\n      <td>93000</td>\n      <td>6990</td>\n    </tr>\n    <tr>\n      <th>18</th>\n      <td>60949</td>\n      <td>7490</td>\n    </tr>\n    <tr>\n      <th>19</th>\n      <td>65674</td>\n      <td>7555</td>\n    </tr>\n    <tr>\n      <th>20</th>\n      <td>54000</td>\n      <td>7990</td>\n    </tr>\n    <tr>\n      <th>21</th>\n      <td>68500</td>\n      <td>7990</td>\n    </tr>\n    <tr>\n      <th>22</th>\n      <td>22899</td>\n      <td>7990</td>\n    </tr>\n    <tr>\n      <th>23</th>\n      <td>61789</td>\n      <td>8290</td>\n    </tr>\n  </tbody>\n</table>\n</div>"
     },
     "metadata": {},
     "execution_count": 3
    }
   ],
   "source": [
    "df = pd.read_csv(\"data.csv\")\n",
    "df"
   ]
  },
  {
   "cell_type": "code",
   "execution_count": null,
   "metadata": {},
   "outputs": [],
   "source": []
  }
 ],
 "metadata": {
  "kernelspec": {
   "display_name": "Python 3",
   "language": "python",
   "name": "python3"
  },
  "language_info": {
   "codemirror_mode": {
    "name": "ipython",
    "version": 3
   },
   "file_extension": ".py",
   "mimetype": "text/x-python",
   "name": "python",
   "nbconvert_exporter": "python",
   "pygments_lexer": "ipython3",
   "version": "3.6.1"
  }
 },
 "nbformat": 4,
 "nbformat_minor": 2
}